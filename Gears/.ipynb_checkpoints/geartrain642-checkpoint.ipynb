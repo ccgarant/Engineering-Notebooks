{
 "cells": [
  {
   "cell_type": "markdown",
   "metadata": {},
   "source": [
    "# Gear Train Design 6-4-2 Ratio\n",
    "A geartrain design for a 6-4-2 inch pitch diameter ratio"
   ]
  },
  {
   "cell_type": "code",
   "execution_count": 1,
   "metadata": {},
   "outputs": [],
   "source": [
    "from spurGearDXPX import spurGearDesign"
   ]
  },
  {
   "cell_type": "code",
   "execution_count": 3,
   "metadata": {},
   "outputs": [
    {
     "name": "stdout",
     "output_type": "stream",
     "text": [
      "gear design input parameters:\n",
      "\n",
      "2, pitch diameter\n",
      "4, diametral pitch\n",
      "8, number of teeth\n",
      "0.785, circular pitch\n",
      "27, pressure angle\n",
      "\n",
      "gear design output design parameters:\n",
      "\n",
      "design info:\n",
      "0.25, addendum, radial distance from pitch radius\n",
      "0.3125, dedendum, radial distance from pitch radius\n",
      "0.125, clearance\n",
      "\n",
      "radii info:\n",
      "1.0, pitch radius\n",
      "0.891, base radius\n",
      "1.25, addendum radius\n",
      "0.6875, dedendum radius\n",
      "0.8125, clearance radius\n",
      "\n",
      "tooth thickness info:\n",
      "0.3925, tooth thickness\n",
      "22.489 tooth thickness angle [deg]\n",
      "11.2445 tooth thickness line of symmetry [deg]\n",
      "\n",
      "involute curve:\n",
      "     theta_rad  s arc length\n",
      "deg                         \n",
      "0     0.000000      0.000000\n",
      "5     0.087266      0.077754\n",
      "10    0.174533      0.155509\n",
      "15    0.261799      0.233263\n",
      "20    0.349066      0.311018\n",
      "25    0.436332      0.388772\n",
      "30    0.523599      0.466527\n",
      "35    0.610865      0.544281\n",
      "40    0.698132      0.622035\n",
      "45    0.785398      0.699790\n",
      "50    0.872665      0.777544\n",
      "55    0.959931      0.855299\n",
      "60    1.047198      0.933053\n",
      "65    1.134464      1.010807\n"
     ]
    }
   ],
   "source": [
    "spurGearDesign(2,4,27)"
   ]
  },
  {
   "cell_type": "code",
   "execution_count": 4,
   "metadata": {},
   "outputs": [
    {
     "name": "stdout",
     "output_type": "stream",
     "text": [
      "gear design input parameters:\n",
      "\n",
      "4, pitch diameter\n",
      "4, diametral pitch\n",
      "16, number of teeth\n",
      "0.785, circular pitch\n",
      "27, pressure angle\n",
      "\n",
      "gear design output design parameters:\n",
      "\n",
      "design info:\n",
      "0.25, addendum, radial distance from pitch radius\n",
      "0.3125, dedendum, radial distance from pitch radius\n",
      "0.125, clearance\n",
      "\n",
      "radii info:\n",
      "2.0, pitch radius\n",
      "1.782, base radius\n",
      "2.25, addendum radius\n",
      "1.6875, dedendum radius\n",
      "1.8125, clearance radius\n",
      "\n",
      "tooth thickness info:\n",
      "0.3925, tooth thickness\n",
      "11.244 tooth thickness angle [deg]\n",
      "5.622 tooth thickness line of symmetry [deg]\n",
      "\n",
      "involute curve:\n",
      "     theta_rad  s arc length\n",
      "deg                         \n",
      "0     0.000000      0.000000\n",
      "5     0.087266      0.155509\n",
      "10    0.174533      0.311018\n",
      "15    0.261799      0.466527\n",
      "20    0.349066      0.622035\n",
      "25    0.436332      0.777544\n",
      "30    0.523599      0.933053\n",
      "35    0.610865      1.088562\n",
      "40    0.698132      1.244071\n",
      "45    0.785398      1.399580\n",
      "50    0.872665      1.555088\n",
      "55    0.959931      1.710597\n",
      "60    1.047198      1.866106\n",
      "65    1.134464      2.021615\n"
     ]
    }
   ],
   "source": [
    "spurGearDesign(4,4,27)"
   ]
  },
  {
   "cell_type": "code",
   "execution_count": 5,
   "metadata": {},
   "outputs": [
    {
     "name": "stdout",
     "output_type": "stream",
     "text": [
      "gear design input parameters:\n",
      "\n",
      "6, pitch diameter\n",
      "4, diametral pitch\n",
      "24, number of teeth\n",
      "0.785, circular pitch\n",
      "27, pressure angle\n",
      "\n",
      "gear design output design parameters:\n",
      "\n",
      "design info:\n",
      "0.25, addendum, radial distance from pitch radius\n",
      "0.3125, dedendum, radial distance from pitch radius\n",
      "0.125, clearance\n",
      "\n",
      "radii info:\n",
      "3.0, pitch radius\n",
      "2.673, base radius\n",
      "3.25, addendum radius\n",
      "2.6875, dedendum radius\n",
      "2.8125, clearance radius\n",
      "\n",
      "tooth thickness info:\n",
      "0.3925, tooth thickness\n",
      "7.496 tooth thickness angle [deg]\n",
      "3.748 tooth thickness line of symmetry [deg]\n",
      "\n",
      "involute curve:\n",
      "     theta_rad  s arc length\n",
      "deg                         \n",
      "0     0.000000      0.000000\n",
      "5     0.087266      0.233263\n",
      "10    0.174533      0.466527\n",
      "15    0.261799      0.699790\n",
      "20    0.349066      0.933053\n",
      "25    0.436332      1.166316\n",
      "30    0.523599      1.399580\n",
      "35    0.610865      1.632843\n",
      "40    0.698132      1.866106\n",
      "45    0.785398      2.099369\n",
      "50    0.872665      2.332633\n",
      "55    0.959931      2.565896\n",
      "60    1.047198      2.799159\n",
      "65    1.134464      3.032422\n"
     ]
    }
   ],
   "source": [
    "spurGearDesign(6,4,27)"
   ]
  }
 ],
 "metadata": {
  "kernelspec": {
   "display_name": "Python 3",
   "language": "python",
   "name": "python3"
  },
  "language_info": {
   "codemirror_mode": {
    "name": "ipython",
    "version": 3
   },
   "file_extension": ".py",
   "mimetype": "text/x-python",
   "name": "python",
   "nbconvert_exporter": "python",
   "pygments_lexer": "ipython3",
   "version": "3.7.6"
  }
 },
 "nbformat": 4,
 "nbformat_minor": 4
}
